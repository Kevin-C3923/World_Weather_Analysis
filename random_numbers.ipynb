{
 "cells": [
  {
   "cell_type": "code",
   "execution_count": 1,
   "id": "ffc11f88",
   "metadata": {},
   "outputs": [],
   "source": [
    "# Import the random module.\n",
    "import random"
   ]
  },
  {
   "cell_type": "code",
   "execution_count": 6,
   "id": "b40c67f2",
   "metadata": {},
   "outputs": [
    {
     "data": {
      "text/plain": [
       "-53"
      ]
     },
     "execution_count": 6,
     "metadata": {},
     "output_type": "execute_result"
    }
   ],
   "source": [
    "random.randint( -90, 90)\n"
   ]
  },
  {
   "cell_type": "code",
   "execution_count": 9,
   "id": "313c65d4",
   "metadata": {},
   "outputs": [
    {
     "data": {
      "text/plain": [
       "0.6367786327671601"
      ]
     },
     "execution_count": 9,
     "metadata": {},
     "output_type": "execute_result"
    }
   ],
   "source": [
    "random.random()"
   ]
  },
  {
   "cell_type": "code",
   "execution_count": 10,
   "id": "f68c4d13",
   "metadata": {},
   "outputs": [],
   "source": [
    "x = 1\n",
    "latitudes = []\n",
    "while x < 11:\n",
    "    random_lat = random.randint(-90, 89) + random.random()\n",
    "    latitudes.append(random_lat)\n",
    "    x += 1"
   ]
  },
  {
   "cell_type": "code",
   "execution_count": 11,
   "id": "943c2aa9",
   "metadata": {},
   "outputs": [
    {
     "data": {
      "text/plain": [
       "[14.641197259849164,\n",
       " 37.12887681710457,\n",
       " 81.08902135100872,\n",
       " 48.91262203581301,\n",
       " 26.03525333509408,\n",
       " 50.25005966222241,\n",
       " -38.5930043414086,\n",
       " 8.355948667737346,\n",
       " 38.67456548704064,\n",
       " 15.852724876797652]"
      ]
     },
     "execution_count": 11,
     "metadata": {},
     "output_type": "execute_result"
    }
   ],
   "source": [
    "latitudes"
   ]
  },
  {
   "cell_type": "code",
   "execution_count": 12,
   "id": "96a895d9",
   "metadata": {},
   "outputs": [
    {
     "data": {
      "text/plain": [
       "-23"
      ]
     },
     "execution_count": 12,
     "metadata": {},
     "output_type": "execute_result"
    }
   ],
   "source": [
    "random.randrange(-90, 90, step=1)"
   ]
  },
  {
   "cell_type": "code",
   "execution_count": 14,
   "id": "008eb95b",
   "metadata": {},
   "outputs": [
    {
     "data": {
      "text/plain": [
       "30"
      ]
     },
     "execution_count": 14,
     "metadata": {},
     "output_type": "execute_result"
    }
   ],
   "source": [
    "random.randrange(-90, 90, step=3)"
   ]
  },
  {
   "cell_type": "code",
   "execution_count": 16,
   "id": "a3098954",
   "metadata": {},
   "outputs": [
    {
     "data": {
      "text/plain": [
       "-37.70079249821575"
      ]
     },
     "execution_count": 16,
     "metadata": {},
     "output_type": "execute_result"
    }
   ],
   "source": [
    "random.uniform(-90, 90)"
   ]
  },
  {
   "cell_type": "code",
   "execution_count": 17,
   "id": "19b8cfb5",
   "metadata": {},
   "outputs": [],
   "source": [
    "# Import the NumPy module.\n",
    "import numpy as np"
   ]
  },
  {
   "cell_type": "code",
   "execution_count": 18,
   "id": "af6d4605",
   "metadata": {},
   "outputs": [
    {
     "data": {
      "text/plain": [
       "-89.38437234848833"
      ]
     },
     "execution_count": 18,
     "metadata": {},
     "output_type": "execute_result"
    }
   ],
   "source": [
    "np.random.uniform(-90.000, 90.000)"
   ]
  },
  {
   "cell_type": "code",
   "execution_count": 19,
   "id": "97dfea6e",
   "metadata": {},
   "outputs": [
    {
     "data": {
      "text/plain": [
       "array([-36.70151966, -41.17278841, -56.32830815,  -6.63391655,\n",
       "         0.8062036 ,  53.79869973,  13.21606567, -55.69522025,\n",
       "       -74.34428051, -86.78959583,   5.90733784,  14.3537359 ,\n",
       "        64.84586227, -48.03102643,  12.94249026,  42.82334608,\n",
       "       -60.85740601,  68.25404908, -60.03874129,  -6.02342365,\n",
       "       -56.53128652,   7.00301996, -51.36558432,  48.91666334,\n",
       "       -82.76059251, -38.32333515,  52.42848482,  58.31738738,\n",
       "        15.24350332,  -6.92716072,  -2.7808728 ,  41.53533139,\n",
       "        80.2828213 ,  85.31008769, -53.06085113,  48.44644536,\n",
       "        34.90891734, -33.63494659,  80.11657839,  23.34773859,\n",
       "       -37.65816115, -39.52441567,  39.19104989,  52.28294251,\n",
       "        14.68863196, -61.27252082, -30.83504273,  69.11245712,\n",
       "        -8.32560817, -74.03017468])"
      ]
     },
     "execution_count": 19,
     "metadata": {},
     "output_type": "execute_result"
    }
   ],
   "source": [
    "np.random.uniform(-90.000, 90.000, size=50)"
   ]
  },
  {
   "cell_type": "code",
   "execution_count": 20,
   "id": "1a37a9c7",
   "metadata": {},
   "outputs": [],
   "source": [
    "# Import timeit.\n",
    "import timeit"
   ]
  },
  {
   "cell_type": "code",
   "execution_count": 21,
   "id": "0ed572e6",
   "metadata": {},
   "outputs": [
    {
     "name": "stdout",
     "output_type": "stream",
     "text": [
      "15.8 µs ± 651 ns per loop (mean ± std. dev. of 7 runs, 100000 loops each)\n"
     ]
    }
   ],
   "source": [
    "%timeit np.random.uniform(-90.000, 90.000, size=1500)\n"
   ]
  },
  {
   "cell_type": "code",
   "execution_count": 23,
   "id": "00e35c6d",
   "metadata": {},
   "outputs": [
    {
     "name": "stdout",
     "output_type": "stream",
     "text": [
      "2.02 ms ± 103 µs per loop (mean ± std. dev. of 7 runs, 1000 loops each)\n"
     ]
    }
   ],
   "source": [
    "def latitudes(size):\n",
    "    latitudes = []\n",
    "    x = 0\n",
    "    while x < (size):\n",
    "        random_lat = random.randint(-90, 90) + random.random()\n",
    "        latitudes.append(random_lat)\n",
    "        x += 1\n",
    "    return latitudes\n",
    "# Call the function with 1500.\n",
    "%timeit latitudes(1500)"
   ]
  },
  {
   "cell_type": "code",
   "execution_count": null,
   "id": "6600bed3",
   "metadata": {},
   "outputs": [],
   "source": []
  }
 ],
 "metadata": {
  "kernelspec": {
   "display_name": "PythonData",
   "language": "python",
   "name": "pythondata"
  },
  "language_info": {
   "codemirror_mode": {
    "name": "ipython",
    "version": 3
   },
   "file_extension": ".py",
   "mimetype": "text/x-python",
   "name": "python",
   "nbconvert_exporter": "python",
   "pygments_lexer": "ipython3",
   "version": "3.7.11"
  }
 },
 "nbformat": 4,
 "nbformat_minor": 5
}
